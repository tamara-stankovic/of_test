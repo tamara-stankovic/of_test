{
 "cells": [
  {
   "cell_type": "code",
   "execution_count": 1,
   "metadata": {},
   "outputs": [],
   "source": [
    "from Bio import SeqIO,SeqFeature,Entrez\n",
    "import xml.etree.ElementTree as ET\n",
    "import pandas as pd\n",
    "import time\n",
    "import os"
   ]
  },
  {
   "cell_type": "markdown",
   "metadata": {},
   "source": [
    "Based on the two provided sample files I suposse that the potential customer would like to integrate genomic data directly with the biological literature.  The connection between provided [GeneBank file format](https://www.ncbi.nlm.nih.gov/Sitemap/samplerecord.html) which originates from NCBI Nucleotide database and xml file which represents  [Pubmed article metadata](https://www.nlm.nih.gov/bsd/licensee/elements_descriptions.html) could be established trough PubMed ID. The main two entities in this case would be Gene and Scientific Publication. "
   ]
  },
  {
   "cell_type": "markdown",
   "metadata": {},
   "source": [
    " Open the sequence.gb file. Collect the record name and inspect the description."
   ]
  },
  {
   "cell_type": "code",
   "execution_count": 83,
   "metadata": {},
   "outputs": [
    {
     "name": "stdout",
     "output_type": "stream",
     "text": [
      "Index: 0\n",
      "RecordName: NG_015888\n",
      "RecordDescription: Homo sapiens cyclin dependent kinase 6 (CDK6), RefSeqGene (LRG_991) on chromosome 7\n"
     ]
    }
   ],
   "source": [
    "for index, record in enumerate(SeqIO.parse((os.path.join(\"./Data/\",\"sequence.gb\")), \"genbank\")):\n",
    "    print(f'''Index: {index}\\nRecordName: {record.name}\\nRecordDescription: {record.description}''')\n",
    "         "
   ]
  },
  {
   "cell_type": "markdown",
   "metadata": {},
   "source": [
    "Collect the following:\n",
    "- **Gene Symbol**  (\"The official gene symbol approved by the HGNC, which is typically a short form of the gene name. Symbols are approved in accordance with the Guidelines for Human Gene Nomenclature.\"),\n",
    "- **Gene Name**  (\"The full gene name approved by the HGNC; corresponds to the approved symbol above.\"), \n",
    "- **Gene Synonyms**  (\"Alternative symbols that have been used to refer to the gene. Aliases may be from literature, from other databases or may be added to represent membership of a gene group.\"). \n"
   ]
  },
  {
   "cell_type": "code",
   "execution_count": 6,
   "metadata": {},
   "outputs": [
    {
     "name": "stdout",
     "output_type": "stream",
     "text": [
      "GeneSymbol: CDK6\n",
      "GeneSynonyms: MCPH12; PLSTIRE\n",
      "GeneName: cyclin dependent kinase 6\n"
     ]
    }
   ],
   "source": [
    "for x in record.features:\n",
    "    if (x.type == 'gene') and (x.qualifiers['gene'][0]=='CDK6'):\n",
    "        db_xref = x.qualifiers['db_xref']\n",
    "        print(f'''GeneSymbol: {x.qualifiers['gene'][0]}\\nGeneSynonyms: {x.qualifiers['gene_synonym'][0]}\\nGeneName: {x.qualifiers['note'][0]}''')\n",
    "        "
   ]
  },
  {
   "cell_type": "markdown",
   "metadata": {},
   "source": [
    "Collect the  following:\n",
    "- **Chromosome** (Indicates the chromosome number.) and **Cytogenetic band** (Indicates the cytogenetic location.) \n",
    "- **Organism** and **Taxon ID** that it originates from."
   ]
  },
  {
   "cell_type": "code",
   "execution_count": 13,
   "metadata": {},
   "outputs": [
    {
     "name": "stdout",
     "output_type": "stream",
     "text": [
      "Chromosome: 7\n",
      "CytogeneticBand: 7q21.2\n",
      "Organism: Homo sapiens\n",
      "TaxonID: 9606\n"
     ]
    }
   ],
   "source": [
    "for x in record.features:\n",
    "    if x.type == 'source':\n",
    "        print(f'''Chromosome: {x.qualifiers['chromosome'][0]}\\nCytogeneticBand: {x.qualifiers['map'][0]}\\nOrganism: {x.qualifiers['organism'][0]}\\nTaxonID: {x.qualifiers['db_xref'][0].split(':')[1]}''') \n"
   ]
  },
  {
   "cell_type": "markdown",
   "metadata": {},
   "source": [
    "Collect the [HUGO Gene Nomenclature Committee](https://www.genenames.org/), \n",
    "[Online Mendelian Inheritance in Man](https://www.omim.org/) and [NCBI Gene](https://www.ncbi.nlm.nih.gov/gene/) identifiers.\n",
    "Note: If a customer has a licence to use OMIM I would include those links also, since it would be easy to enrich the associations with gene and disease or disorder links."
   ]
  },
  {
   "cell_type": "code",
   "execution_count": 84,
   "metadata": {},
   "outputs": [
    {
     "name": "stdout",
     "output_type": "stream",
     "text": [
      "GeneID: 1021\n",
      "HGNC: HGNC:1777\n",
      "MIM: 603368\n"
     ]
    }
   ],
   "source": [
    "for x in record.features:\n",
    "    if (x.type == 'gene') and (x.qualifiers['gene'][0]=='CDK6'):\n",
    "        db_xref = x.qualifiers['db_xref']\n",
    "        for r in db_xref:\n",
    "            arr = r.split(':')\n",
    "            key = arr[0]\n",
    "            value = ':'.join(arr[1:])\n",
    "            print(f'''{key}: {value}''')\n",
    "            "
   ]
  },
  {
   "cell_type": "markdown",
   "metadata": {},
   "source": [
    "Collect the [Reference Sequence](https://www.ncbi.nlm.nih.gov/refseq/) transcript IDs. \n",
    "**Note**: The sequence NM_001259.6 has been updeated; the current version is NM_001259.7."
   ]
  },
  {
   "cell_type": "code",
   "execution_count": 17,
   "metadata": {},
   "outputs": [
    {
     "name": "stdout",
     "output_type": "stream",
     "text": [
      "RefSeqTranscriptID: NM_001145306.1\n",
      "RefSeqTranscriptID: NM_001259.6\n"
     ]
    }
   ],
   "source": [
    "for  x in record.features:\n",
    "    if (x.type == 'mRNA')and (x.qualifiers['gene'][0]=='CDK6'):\n",
    "        print(f'''RefSeqTranscriptID: {x.qualifiers['transcript_id'][0]}''')\n",
    "        "
   ]
  },
  {
   "cell_type": "markdown",
   "metadata": {},
   "source": [
    "Collect  [Reference Sequence](https://www.ncbi.nlm.nih.gov/refseq/) protein IDs and [Consensus CDS sequence](https://www.ncbi.nlm.nih.gov/CCDS/CcdsBrowse.cgi) ID."
   ]
  },
  {
   "cell_type": "code",
   "execution_count": 18,
   "metadata": {},
   "outputs": [
    {
     "name": "stdout",
     "output_type": "stream",
     "text": [
      "CCDS CCDS5628.1\n",
      "RefSeqProteinID: NP_001138778.1 \n",
      "CCDS CCDS5628.1\n",
      "RefSeqProteinID: NP_001250.1 \n"
     ]
    }
   ],
   "source": [
    "for x in record.features:\n",
    "    if (x.type == 'CDS')and (x.qualifiers['gene'][0]=='CDK6'):\n",
    "        \n",
    "        db_xref = x.qualifiers['db_xref']\n",
    "        for r in db_xref:\n",
    "            if 'CCDS' in r:\n",
    "                key, val = r.split(\":\")\n",
    "                print(key,val)\n",
    "        print(f'''RefSeqProteinID: {x.qualifiers['protein_id'][0]} ''')       \n",
    "        \n",
    "            "
   ]
  },
  {
   "cell_type": "markdown",
   "metadata": {},
   "source": [
    "Extract information related to publication such as Title, PubMed ID, Journal, Authors in order to compare with the information from the publication metadata file."
   ]
  },
  {
   "cell_type": "code",
   "execution_count": 20,
   "metadata": {},
   "outputs": [
    {
     "name": "stdout",
     "output_type": "stream",
     "text": [
      "Title: Primary Autosomal Recessive Microcephalies and Seckel Syndrome Spectrum Disorders\n",
      "PubMedID: 20301772\n",
      "Authors: Verloes,A., Drunat,S., Gressens,P. and Passemard,S.\n",
      "Journal: (in) Adam MP, Ardinger HH, Pagon RA, Wallace SE, Bean LJH, Stephens K and Amemiya A (Eds.); GENEREVIEWS((R)); (1993)\n"
     ]
    }
   ],
   "source": [
    "for p in record.annotations['references']:\n",
    "     print(f'''Title: {p.title}\\nPubMedID: {p.pubmed_id}\\nAuthors: {p.authors}\\nJournal: {p.journal}''')    \n",
    "    "
   ]
  },
  {
   "cell_type": "markdown",
   "metadata": {},
   "source": [
    "Process  PubMed metadata file. Extract properties relevat to scientific publication."
   ]
  },
  {
   "cell_type": "code",
   "execution_count": 29,
   "metadata": {},
   "outputs": [],
   "source": [
    "tree = ET.parse(os.path.join('./Data/','pubmed_result.xml'))\n",
    "root = tree.getroot()"
   ]
  },
  {
   "cell_type": "markdown",
   "metadata": {},
   "source": [
    "Collect PubmedID."
   ]
  },
  {
   "cell_type": "code",
   "execution_count": 85,
   "metadata": {},
   "outputs": [
    {
     "name": "stdout",
     "output_type": "stream",
     "text": [
      "PubMedID: 20301772\n"
     ]
    }
   ],
   "source": [
    "for x in root.findall(\".//PMID\"):\n",
    "    print(f'''PubMedID: {x.text}''')"
   ]
  },
  {
   "cell_type": "markdown",
   "metadata": {},
   "source": [
    "Collect Publisher Name."
   ]
  },
  {
   "cell_type": "code",
   "execution_count": 86,
   "metadata": {},
   "outputs": [
    {
     "name": "stdout",
     "output_type": "stream",
     "text": [
      "Publisher: University of Washington, Seattle\n"
     ]
    }
   ],
   "source": [
    "for x in root.findall(\".//PublisherName\"):\n",
    "    print(f'''Publisher: {x.text}''')"
   ]
  },
  {
   "cell_type": "markdown",
   "metadata": {},
   "source": [
    "Collect Journal Name."
   ]
  },
  {
   "cell_type": "code",
   "execution_count": 87,
   "metadata": {},
   "outputs": [
    {
     "name": "stdout",
     "output_type": "stream",
     "text": [
      "Journal: GeneReviews\n"
     ]
    }
   ],
   "source": [
    "for x in root.findall(\".//BookTitle\"):\n",
    "    print(f'''Journal: {x.text}''')"
   ]
  },
  {
   "cell_type": "markdown",
   "metadata": {},
   "source": [
    "Collect Year of publication."
   ]
  },
  {
   "cell_type": "code",
   "execution_count": 36,
   "metadata": {},
   "outputs": [
    {
     "name": "stdout",
     "output_type": "stream",
     "text": [
      "PublicationYear: 1993\n"
     ]
    }
   ],
   "source": [
    "for x in root.findall(\".//PubDate/Year\"):\n",
    "    print(f'''PublicationYear: {x.text}''')"
   ]
  },
  {
   "cell_type": "markdown",
   "metadata": {},
   "source": [
    "Collect the Title of Publication."
   ]
  },
  {
   "cell_type": "code",
   "execution_count": 88,
   "metadata": {},
   "outputs": [
    {
     "name": "stdout",
     "output_type": "stream",
     "text": [
      "Title: Primary Autosomal Recessive Microcephalies and Seckel Syndrome Spectrum Disorders\n"
     ]
    }
   ],
   "source": [
    "for x in root.findall(\".//ArticleTitle\"):\n",
    "    print(f'''Title: {x.text}''')"
   ]
  },
  {
   "cell_type": "markdown",
   "metadata": {},
   "source": [
    "Collect the publication Language."
   ]
  },
  {
   "cell_type": "code",
   "execution_count": 89,
   "metadata": {},
   "outputs": [
    {
     "name": "stdout",
     "output_type": "stream",
     "text": [
      "Language: eng\n"
     ]
    }
   ],
   "source": [
    "for x in root.findall(\".//Language\"):\n",
    "    print(f'''Language: {x.text}''')"
   ]
  },
  {
   "cell_type": "markdown",
   "metadata": {},
   "source": [
    "Collect the publication type."
   ]
  },
  {
   "cell_type": "code",
   "execution_count": 40,
   "metadata": {},
   "outputs": [
    {
     "name": "stdout",
     "output_type": "stream",
     "text": [
      "PyblicationType: Review\n"
     ]
    }
   ],
   "source": [
    "for x in root.findall(\".//PublicationType\"):\n",
    "    print(f'''PyblicationType: {x.text}''')"
   ]
  },
  {
   "cell_type": "markdown",
   "metadata": {},
   "source": [
    "Collect the list of Authors."
   ]
  },
  {
   "cell_type": "code",
   "execution_count": 99,
   "metadata": {},
   "outputs": [
    {
     "name": "stdout",
     "output_type": "stream",
     "text": [
      "Author: Verloes Alain\n",
      "Author: Drunat Séverine\n",
      "Author: Gressens Pierre\n",
      "Author: Passemard Sandrine\n"
     ]
    }
   ],
   "source": [
    "for x in root.findall(\".//AuthorList\"):\n",
    "    if x.get('Type') == 'authors':\n",
    "        for e in list(x):\n",
    "            print(f'''Author: {e.find('./LastName').text} {e.find('./ForeName').text}''')"
   ]
  },
  {
   "cell_type": "markdown",
   "metadata": {},
   "source": [
    "#### Find all papers related to CDK6 gene.\n",
    "I have used  curated gene-PMID links from the [Entrez Gene database](https://www.ncbi.nlm.nih.gov/pmc/articles/PMC3013746/) to download [gene2pubmed](ftp://ftp.ncbi.nlm.nih.gov/gene/DATA/gene2pubmed.gz) tsv file from 12th April 2019 which has the links between genes and publications over three columns, denoting NCBI taxonomy ID, Entrez Gene ID and PMID. This gene has been mentioned in 311 publications. "
   ]
  },
  {
   "cell_type": "code",
   "execution_count": 96,
   "metadata": {},
   "outputs": [],
   "source": [
    "gene2pubmed = pd.read_csv(\"./Data/gene2pubmed.txt\"\n",
    "                              ,sep= \"\\t\",index_col= False).rename(str.lower,axis = 'columns')"
   ]
  },
  {
   "cell_type": "code",
   "execution_count": 97,
   "metadata": {},
   "outputs": [],
   "source": [
    "cdk6_related_papers = gene2pubmed[gene2pubmed['geneid'] == 1021]"
   ]
  },
  {
   "cell_type": "code",
   "execution_count": 98,
   "metadata": {},
   "outputs": [
    {
     "data": {
      "text/plain": [
       "(311, 3)"
      ]
     },
     "execution_count": 98,
     "metadata": {},
     "output_type": "execute_result"
    }
   ],
   "source": [
    "cdk6_related_papers.shape"
   ]
  },
  {
   "cell_type": "code",
   "execution_count": 92,
   "metadata": {},
   "outputs": [],
   "source": [
    "genes_related_to_paper = gene2pubmed[gene2pubmed['pubmed_id'] ==20301772]"
   ]
  },
  {
   "cell_type": "markdown",
   "metadata": {},
   "source": [
    "**Note:** Please add your email adress in order for this function to work."
   ]
  },
  {
   "cell_type": "code",
   "execution_count": 93,
   "metadata": {},
   "outputs": [],
   "source": [
    "def fetch_gene_names (identifier):\n",
    "    Entrez.email = \"email@domain.com\"\n",
    "    handle = Entrez.epost('gene', id = identifier)\n",
    "    results = Entrez.read(handle)\n",
    "    webEnv = results[\"WebEnv\"]\n",
    "    queryKey = results[\"QueryKey\"]\n",
    "    time.sleep(0.5)\n",
    "    data = Entrez.efetch(db=\"gene\", webenv=webEnv, query_key =\n",
    "                queryKey, retmode=\"xml\")\n",
    "    annotations = Entrez.read(data)\n",
    "    gene_names = {}\n",
    "    for annotation in annotations:\n",
    "        for property in annotation['Entrezgene_properties']:\n",
    "             if property.get(\"Gene-commentary_label\",None) == \"Nomenclature\":\n",
    "                    for subproperty in property[\"Gene-commentary_properties\"]:\n",
    "                        if subproperty.get(\"Gene-commentary_label\",None)  == \"Official Symbol\":\n",
    "                            gene_names['symbol'] =subproperty.get(\"Gene-commentary_text\",\"\")\n",
    "                        if subproperty.get(\"Gene-commentary_label\",None)  == \"Official Full Name\":\n",
    "                            gene_names['full_name'] =subproperty.get(\"Gene-commentary_text\",\"\")\n",
    "    return gene_names\n"
   ]
  },
  {
   "cell_type": "code",
   "execution_count": 94,
   "metadata": {},
   "outputs": [],
   "source": [
    "genes = list(genes_related_to_paper['geneid'])"
   ]
  },
  {
   "cell_type": "code",
   "execution_count": 95,
   "metadata": {},
   "outputs": [
    {
     "name": "stdout",
     "output_type": "stream",
     "text": [
      "{'symbol': 'ATR', 'full_name': 'ATR serine/threonine kinase'}\n",
      "{'symbol': 'CDK6', 'full_name': 'cyclin dependent kinase 6'}\n",
      "{'symbol': 'PHC1', 'full_name': 'polyhomeotic homolog 1'}\n",
      "{'symbol': 'RBBP8', 'full_name': 'RB binding protein 8, endonuclease'}\n",
      "{'symbol': 'STIL', 'full_name': 'STIL centriolar assembly protein'}\n",
      "{'symbol': 'CEP135', 'full_name': 'centrosomal protein 135'}\n",
      "{'symbol': 'CEP152', 'full_name': 'centrosomal protein 152'}\n",
      "{'symbol': 'NIN', 'full_name': 'ninein'}\n",
      "{'symbol': 'CDK5RAP2', 'full_name': 'CDK5 regulatory subunit associated protein 2'}\n",
      "{'symbol': 'CENPJ', 'full_name': 'centromere protein J'}\n",
      "{'symbol': 'KNL1', 'full_name': 'kinetochore scaffold 1'}\n",
      "{'symbol': 'MCPH1', 'full_name': 'microcephalin 1'}\n",
      "{'symbol': 'CEP63', 'full_name': 'centrosomal protein 63'}\n",
      "{'symbol': 'ATRIP', 'full_name': 'ATR interacting protein'}\n",
      "{'symbol': 'ASPM', 'full_name': 'abnormal spindle microtubule assembly'}\n",
      "{'symbol': 'WDR62', 'full_name': 'WD repeat domain 62'}\n"
     ]
    }
   ],
   "source": [
    "for gene in genes:\n",
    "    try:\n",
    "        print(fetch_gene_names(gene))\n",
    "    except:\n",
    "        time.sleep(1)\n",
    "        print(fetch_gene_names(gene))"
   ]
  },
  {
   "cell_type": "markdown",
   "metadata": {},
   "source": [
    "#### Find all genes mentioned in this paper PMID= 20301772. \n",
    "The following genes has been linked to this paper: \n",
    "- ATR: ATR serine/threonine kinase\n",
    "- CDK6: cyclin dependent kinase 6\n",
    "- PHC1: 'polyhomeotic homolog 1\n",
    "- RBBP8: RB binding protein 8, endonuclease\n",
    "- STIL: STIL centriolar assembly protein\n",
    "- CEP135: centrosomal protein 135\n",
    "- CEP152: centrosomal protein 152\n",
    "- NIN: ninein\n",
    "- CDK5RAP2: CDK5 regulatory subunit associated protein 2\n",
    "- CENPJ: centromere protein J\n",
    "- KNL1: kinetochore scaffold 1\n",
    "- MCPH1: microcephalin 1\n",
    "- CEP63: centrosomal protein 63\n",
    "- ATRIP: ATR interacting protein\n",
    "- ASPM: abnormal spindle microtubule assembly\n",
    "- WDR62: WD repeat domain 62\n"
   ]
  },
  {
   "cell_type": "markdown",
   "metadata": {},
   "source": [
    "This is how i would design the relations between entities, and expose them to the customer:\n",
    "\n",
    "| **Key Entity**   |  **AssociatedProperty**  |\n",
    "| ----------- | ----------- |\n",
    "| Gene | *hasGeneSymbol* |\n",
    "| Gene | *hasGeneName* |\n",
    "| Gene | *hasGeneSynonyms* |\n",
    "| Gene | *hasChromosome* |\n",
    "| Gene | *hasCytogeneticBand* |\n",
    "| Gene | *hasOrganism* |\n",
    "| Gene | *hasTaxon* |\n",
    "| Gene | *hasRefSeqTranscriptID* |\n",
    "| Gene | *hasRefSeqProteinID* |\n",
    "| Gene | *hasCCDS* |\n",
    "| Scientific Publication | *hasPMID* |\n",
    "| Scientific Publication | *hasPublisher* |\n",
    "| Scientific Publication | *hasJournal* |\n",
    "| Scientific Publication | *hasPublicationYear* |\n",
    "| Scientific Publication | *hasTitle* |\n",
    "| Scientific Publication | *hasLanguage* |\n",
    "| Scientific Publication | *hasPublicationType* |\n",
    "| Scientific Publication | *hasAuthors* |\n",
    "\n"
   ]
  },
  {
   "cell_type": "code",
   "execution_count": null,
   "metadata": {},
   "outputs": [],
   "source": []
  }
 ],
 "metadata": {
  "kernelspec": {
   "display_name": "OF kernel",
   "language": "python",
   "name": "ontoforce"
  },
  "language_info": {
   "codemirror_mode": {
    "name": "ipython",
    "version": 3
   },
   "file_extension": ".py",
   "mimetype": "text/x-python",
   "name": "python",
   "nbconvert_exporter": "python",
   "pygments_lexer": "ipython3",
   "version": "3.7.0"
  }
 },
 "nbformat": 4,
 "nbformat_minor": 2
}
